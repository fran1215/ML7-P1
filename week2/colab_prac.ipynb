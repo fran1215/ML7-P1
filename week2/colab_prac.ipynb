{
  "nbformat": 4,
  "nbformat_minor": 0,
  "metadata": {
    "colab": {
      "provenance": [],
      "include_colab_link": true
    },
    "kernelspec": {
      "name": "python3",
      "display_name": "Python 3"
    },
    "language_info": {
      "name": "python"
    }
  },
  "cells": [
    {
      "cell_type": "markdown",
      "metadata": {
        "id": "view-in-github",
        "colab_type": "text"
      },
      "source": [
        "<a href=\"https://colab.research.google.com/github/fran1215/ML7-P1/blob/main/week2/colab_prac.ipynb\" target=\"_parent\"><img src=\"https://colab.research.google.com/assets/colab-badge.svg\" alt=\"Open In Colab\"/></a>"
      ]
    },
    {
      "cell_type": "code",
      "source": [],
      "metadata": {
        "id": "iya54tW-3GZW"
      },
      "execution_count": null,
      "outputs": []
    },
    {
      "cell_type": "code",
      "source": [
        "from google.colab import drive\n",
        "drive.mount('/content/drive')"
      ],
      "metadata": {
        "id": "ariNHfdJ3G1T",
        "outputId": "fcf29917-8233-4cb4-d9a9-9f555e92fcbd",
        "colab": {
          "base_uri": "https://localhost:8080/"
        }
      },
      "execution_count": 1,
      "outputs": [
        {
          "output_type": "stream",
          "name": "stdout",
          "text": [
            "Mounted at /content/drive\n"
          ]
        }
      ]
    },
    {
      "cell_type": "markdown",
      "source": [
        "## Week2 Colab practice\n",
        "\n",
        "Follow the instructions below\n",
        "\n",
        "  1) Mount google drive    \n",
        "  2) type the command below\n",
        "```\n",
        "!cd drive/MyDrive/\n",
        "!git clone https://github.com/stefmolin/Hands-On-Data-Analysis-with-Pandas-2nd-edition.git\n",
        "```\n"
      ],
      "metadata": {
        "id": "YlC8D9grHY59"
      }
    },
    {
      "cell_type": "code",
      "source": [
        "!cd drive/MyDrive/CAU_MachineLearning"
      ],
      "metadata": {
        "id": "GTTq0_4O3QEg"
      },
      "execution_count": 2,
      "outputs": []
    },
    {
      "cell_type": "code",
      "source": [
        "!git clone https://github.com/stefmolin/Hands-On-Data-Analysis-with-Pandas-2nd-edition.git"
      ],
      "metadata": {
        "id": "niKavcz63aCD",
        "outputId": "8e0784d0-c695-46e2-ae49-57cbf83d43a0",
        "colab": {
          "base_uri": "https://localhost:8080/"
        }
      },
      "execution_count": 3,
      "outputs": [
        {
          "output_type": "stream",
          "name": "stdout",
          "text": [
            "Cloning into 'Hands-On-Data-Analysis-with-Pandas-2nd-edition'...\n",
            "remote: Enumerating objects: 3310, done.\u001b[K\n",
            "remote: Counting objects: 100% (3310/3310), done.\u001b[K\n",
            "remote: Compressing objects: 100% (1190/1190), done.\u001b[K\n",
            "remote: Total 3310 (delta 2065), reused 3264 (delta 2057), pack-reused 0\u001b[K\n",
            "Receiving objects: 100% (3310/3310), 74.09 MiB | 27.05 MiB/s, done.\n",
            "Resolving deltas: 100% (2065/2065), done.\n"
          ]
        }
      ]
    },
    {
      "cell_type": "markdown",
      "source": [
        "## Preparation codes for ch1"
      ],
      "metadata": {
        "id": "M3R1Z9YgIdUT"
      }
    },
    {
      "cell_type": "code",
      "source": [
        "import sys\n",
        "sys.path.append('/content/drive/MyDrive/Hands-On-Data-Analysis-with-Pandas-2nd-edition/visual-aids/')\n",
        "\n",
        "from visual_aids import stats_viz"
      ],
      "metadata": {
        "id": "OoiNZMfOHfgz"
      },
      "execution_count": 4,
      "outputs": []
    },
    {
      "cell_type": "markdown",
      "source": [
        "## Save this notbook to your repository\n",
        "\n",
        "File -> Save a copy in a github"
      ],
      "metadata": {
        "id": "a8nCXFX4Iiy8"
      }
    },
    {
      "cell_type": "code",
      "source": [],
      "metadata": {
        "id": "GMHZ4Y_oIaM8"
      },
      "execution_count": null,
      "outputs": []
    }
  ]
}